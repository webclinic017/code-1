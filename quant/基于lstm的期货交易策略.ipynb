{
 "cells": [
  {
   "cell_type": "markdown",
   "metadata": {},
   "source": [
    "# 基于lstm的期货交易策略研究"
   ]
  },
  {
   "cell_type": "markdown",
   "metadata": {},
   "source": [
    "标的：豆粕\n",
    "\n",
    "数据：每分钟数据\n",
    "\n",
    "时间：2010年至今\n",
    "\n"
   ]
  },
  {
   "cell_type": "markdown",
   "metadata": {},
   "source": [
    "## 数据读取"
   ]
  },
  {
   "cell_type": "code",
   "execution_count": 1,
   "metadata": {},
   "outputs": [],
   "source": [
    "import pandas as pd\n",
    "# import talib\n",
    "import numpy as np\n",
    "from numpy.linalg import eig\n",
    "import math\n",
    "from scipy.stats import norm\n",
    "from sklearn.model_selection import train_test_split\n",
    "from sklearn import preprocessing\n",
    "from matplotlib import pyplot as plt\n",
    "import datetime"
   ]
  },
  {
   "cell_type": "code",
   "execution_count": 2,
   "metadata": {},
   "outputs": [],
   "source": [
    "import talib"
   ]
  },
  {
   "cell_type": "code",
   "execution_count": 3,
   "metadata": {},
   "outputs": [
    {
     "data": {
      "text/html": [
       "<div>\n",
       "<style scoped>\n",
       "    .dataframe tbody tr th:only-of-type {\n",
       "        vertical-align: middle;\n",
       "    }\n",
       "\n",
       "    .dataframe tbody tr th {\n",
       "        vertical-align: top;\n",
       "    }\n",
       "\n",
       "    .dataframe thead th {\n",
       "        text-align: right;\n",
       "    }\n",
       "</style>\n",
       "<table border=\"1\" class=\"dataframe\">\n",
       "  <thead>\n",
       "    <tr style=\"text-align: right;\">\n",
       "      <th></th>\n",
       "      <th>date</th>\n",
       "      <th>open</th>\n",
       "      <th>close</th>\n",
       "      <th>high</th>\n",
       "      <th>low</th>\n",
       "      <th>volume</th>\n",
       "      <th>open_interest</th>\n",
       "    </tr>\n",
       "  </thead>\n",
       "  <tbody>\n",
       "    <tr>\n",
       "      <th>0</th>\n",
       "      <td>2010-01-04 09:01:00</td>\n",
       "      <td>3050.0</td>\n",
       "      <td>3044.0</td>\n",
       "      <td>3052.0</td>\n",
       "      <td>3037.0</td>\n",
       "      <td>24504.0</td>\n",
       "      <td>1037876.0</td>\n",
       "    </tr>\n",
       "    <tr>\n",
       "      <th>1</th>\n",
       "      <td>2010-01-04 09:02:00</td>\n",
       "      <td>3044.0</td>\n",
       "      <td>3043.0</td>\n",
       "      <td>3044.0</td>\n",
       "      <td>3040.0</td>\n",
       "      <td>13112.0</td>\n",
       "      <td>1039112.0</td>\n",
       "    </tr>\n",
       "    <tr>\n",
       "      <th>2</th>\n",
       "      <td>2010-01-04 09:03:00</td>\n",
       "      <td>3043.0</td>\n",
       "      <td>3047.0</td>\n",
       "      <td>3048.0</td>\n",
       "      <td>3042.0</td>\n",
       "      <td>14848.0</td>\n",
       "      <td>1038992.0</td>\n",
       "    </tr>\n",
       "    <tr>\n",
       "      <th>3</th>\n",
       "      <td>2010-01-04 09:04:00</td>\n",
       "      <td>3047.0</td>\n",
       "      <td>3045.0</td>\n",
       "      <td>3049.0</td>\n",
       "      <td>3045.0</td>\n",
       "      <td>13966.0</td>\n",
       "      <td>1039932.0</td>\n",
       "    </tr>\n",
       "    <tr>\n",
       "      <th>4</th>\n",
       "      <td>2010-01-04 09:05:00</td>\n",
       "      <td>3045.0</td>\n",
       "      <td>3034.0</td>\n",
       "      <td>3045.0</td>\n",
       "      <td>3033.0</td>\n",
       "      <td>13958.0</td>\n",
       "      <td>1039250.0</td>\n",
       "    </tr>\n",
       "  </tbody>\n",
       "</table>\n",
       "</div>"
      ],
      "text/plain": [
       "                  date    open   close    high     low   volume  open_interest\n",
       "0  2010-01-04 09:01:00  3050.0  3044.0  3052.0  3037.0  24504.0      1037876.0\n",
       "1  2010-01-04 09:02:00  3044.0  3043.0  3044.0  3040.0  13112.0      1039112.0\n",
       "2  2010-01-04 09:03:00  3043.0  3047.0  3048.0  3042.0  14848.0      1038992.0\n",
       "3  2010-01-04 09:04:00  3047.0  3045.0  3049.0  3045.0  13966.0      1039932.0\n",
       "4  2010-01-04 09:05:00  3045.0  3034.0  3045.0  3033.0  13958.0      1039250.0"
      ]
     },
     "execution_count": 3,
     "metadata": {},
     "output_type": "execute_result"
    }
   ],
   "source": [
    "data = pd.read_csv('../date//future_data.csv')\n",
    "data.drop('Unnamed: 0', axis=1, inplace=True)\n",
    "data.head()"
   ]
  },
  {
   "cell_type": "code",
   "execution_count": null,
   "metadata": {},
   "outputs": [],
   "source": []
  },
  {
   "cell_type": "markdown",
   "metadata": {},
   "source": [
    "## 数据预处理"
   ]
  },
  {
   "cell_type": "code",
   "execution_count": null,
   "metadata": {},
   "outputs": [],
   "source": []
  },
  {
   "cell_type": "code",
   "execution_count": null,
   "metadata": {},
   "outputs": [],
   "source": []
  },
  {
   "cell_type": "code",
   "execution_count": null,
   "metadata": {},
   "outputs": [],
   "source": []
  },
  {
   "cell_type": "code",
   "execution_count": null,
   "metadata": {},
   "outputs": [],
   "source": []
  }
 ],
 "metadata": {
  "kernelspec": {
   "display_name": "Python 3 (ipykernel)",
   "language": "python",
   "name": "python3"
  },
  "language_info": {
   "codemirror_mode": {
    "name": "ipython",
    "version": 3
   },
   "file_extension": ".py",
   "mimetype": "text/x-python",
   "name": "python",
   "nbconvert_exporter": "python",
   "pygments_lexer": "ipython3",
   "version": "3.9.7"
  },
  "toc": {
   "base_numbering": 1,
   "nav_menu": {},
   "number_sections": true,
   "sideBar": true,
   "skip_h1_title": false,
   "title_cell": "Table of Contents",
   "title_sidebar": "Contents",
   "toc_cell": false,
   "toc_position": {},
   "toc_section_display": true,
   "toc_window_display": false
  }
 },
 "nbformat": 4,
 "nbformat_minor": 4
}
